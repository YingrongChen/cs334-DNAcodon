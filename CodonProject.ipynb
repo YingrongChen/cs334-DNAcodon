{
 "cells": [
  {
   "cell_type": "code",
   "execution_count": 20,
   "id": "a880beeb",
   "metadata": {},
   "outputs": [],
   "source": [
    "import pandas as pd \n",
    "from sklearn.preprocessing import LabelEncoder\n",
    "\n",
    "data_dir = '/Users/natha/Downloads/CS334/project/codon+usage/codon_usage.csv'\n",
    "\n",
    "df = pd.read_csv(data_dir, low_memory=False)"
   ]
  },
  {
   "cell_type": "code",
   "execution_count": 6,
   "id": "33e9b68b",
   "metadata": {},
   "outputs": [
    {
     "name": "stdout",
     "output_type": "stream",
     "text": [
      "364\n",
      "Labels    364\n",
      "dtype: int64\n",
      "\n",
      " --- COLS --- \n",
      "Index(['Kingdom', 'DNAtype', 'SpeciesID', 'Ncodons', 'SpeciesName', 'UUU',\n",
      "       'UUC', 'UUA', 'UUG', 'CUU', 'CUC', 'CUA', 'CUG', 'AUU', 'AUC', 'AUA',\n",
      "       'AUG', 'GUU', 'GUC', 'GUA', 'GUG', 'GCU', 'GCC', 'GCA', 'GCG', 'CCU',\n",
      "       'CCC', 'CCA', 'CCG', 'UGG', 'GGU', 'GGC', 'GGA', 'GGG', 'UCU', 'UCC',\n",
      "       'UCA', 'UCG', 'AGU', 'AGC', 'ACU', 'ACC', 'ACA', 'ACG', 'UAU', 'UAC',\n",
      "       'CAA', 'CAG', 'AAU', 'AAC', 'UGU', 'UGC', 'CAU', 'CAC', 'AAA', 'AAG',\n",
      "       'CGU', 'CGC', 'CGA', 'CGG', 'AGA', 'AGG', 'GAU', 'GAC', 'GAA', 'GAG',\n",
      "       'UAA', 'UAG', 'UGA', 'Labels'],\n",
      "      dtype='object')\n"
     ]
    }
   ],
   "source": [
    "### Checking for Missing Values \n",
    "na_sum = df.isna().sum()\n",
    "na_cols = na_sum[na_sum > 0]\n",
    "\n",
    "print(na_sum.sum())\n",
    "print(na_cols)\n",
    "print('\\n --- COLS --- ')\n",
    "print(df.columns)"
   ]
  },
  {
   "cell_type": "code",
   "execution_count": 7,
   "id": "f5c9ea45",
   "metadata": {},
   "outputs": [
    {
     "data": {
      "text/plain": [
       "array(['vrl', 'arc', 'bct', 'phg', 'plm', 'pln', 'inv', 'vrt', 'mam',\n",
       "       'rod', 'pri'], dtype=object)"
      ]
     },
     "execution_count": 7,
     "metadata": {},
     "output_type": "execute_result"
    }
   ],
   "source": [
    "# paper uses arc, bct, phg, euk, vrl\n",
    "# bct, vrl, euk, phg, arc\n",
    "# pln, vrt, inv, mam, rod, pri\n",
    "# 'arc'(archaea), 'bct'(bacteria), 'phg'(bacteriophage), 'plm' (plasmid),\n",
    "# 'pln' (plant), 'inv' (invertebrate), 'vrt' (vertebrate), 'mam' (mammal), \n",
    "# 'rod' (rodent), 'pri' (primate), and 'vrl'(virus) \n",
    "df['Kingdom'].unique()"
   ]
  },
  {
   "cell_type": "code",
   "execution_count": 9,
   "id": "bf9e317d",
   "metadata": {},
   "outputs": [
    {
     "data": {
      "text/plain": [
       "bct    2920\n",
       "vrl    2832\n",
       "pln    2523\n",
       "vrt    2077\n",
       "inv    1345\n",
       "mam     572\n",
       "phg     220\n",
       "rod     215\n",
       "pri     180\n",
       "arc     126\n",
       "plm      18\n",
       "Name: Kingdom, dtype: int64"
      ]
     },
     "execution_count": 9,
     "metadata": {},
     "output_type": "execute_result"
    }
   ],
   "source": [
    "df['Kingdom'].value_counts()"
   ]
  },
  {
   "cell_type": "code",
   "execution_count": 21,
   "id": "b75255a3",
   "metadata": {},
   "outputs": [],
   "source": [
    "def reclass(row):\n",
    "    if row['Kingdom'] in ['pln', 'vrt', 'inv', 'mam', 'rod', 'pri'] :\n",
    "        return 'euk'\n",
    "    elif row['Kingdom'] == 'bct':\n",
    "        return 'bct'\n",
    "    elif row['Kingdom'] == 'vrl':\n",
    "        return 'vrl'\n",
    "    else :\n",
    "        return None\n",
    "df['Labels'] = df.apply(reclass, axis = 1)\n",
    "df_new = df.dropna()\n",
    "df_new.to_csv('/Users/natha/Downloads/CS334/project/codon+usage/codon_usage_relabeled.csv', index = False)"
   ]
  },
  {
   "cell_type": "code",
   "execution_count": 5,
   "id": "fddfd960",
   "metadata": {},
   "outputs": [
    {
     "data": {
      "text/plain": [
       "euk    6912\n",
       "bct    2920\n",
       "vrl    2832\n",
       "Name: Labels, dtype: int64"
      ]
     },
     "execution_count": 5,
     "metadata": {},
     "output_type": "execute_result"
    }
   ],
   "source": [
    "df['Labels'].value_counts()"
   ]
  },
  {
   "cell_type": "code",
   "execution_count": 34,
   "id": "3f5911b7",
   "metadata": {},
   "outputs": [
    {
     "data": {
      "text/html": [
       "<div>\n",
       "<style scoped>\n",
       "    .dataframe tbody tr th:only-of-type {\n",
       "        vertical-align: middle;\n",
       "    }\n",
       "\n",
       "    .dataframe tbody tr th {\n",
       "        vertical-align: top;\n",
       "    }\n",
       "\n",
       "    .dataframe thead th {\n",
       "        text-align: right;\n",
       "    }\n",
       "</style>\n",
       "<table border=\"1\" class=\"dataframe\">\n",
       "  <thead>\n",
       "    <tr style=\"text-align: right;\">\n",
       "      <th></th>\n",
       "      <th>Kingdom</th>\n",
       "      <th>DNAtype</th>\n",
       "      <th>SpeciesID</th>\n",
       "      <th>Ncodons</th>\n",
       "      <th>SpeciesName</th>\n",
       "      <th>UUU</th>\n",
       "      <th>UUC</th>\n",
       "      <th>UUA</th>\n",
       "      <th>UUG</th>\n",
       "      <th>CUU</th>\n",
       "      <th>...</th>\n",
       "      <th>AGA</th>\n",
       "      <th>AGG</th>\n",
       "      <th>GAU</th>\n",
       "      <th>GAC</th>\n",
       "      <th>GAA</th>\n",
       "      <th>GAG</th>\n",
       "      <th>UAA</th>\n",
       "      <th>UAG</th>\n",
       "      <th>UGA</th>\n",
       "      <th>Labels</th>\n",
       "    </tr>\n",
       "  </thead>\n",
       "  <tbody>\n",
       "    <tr>\n",
       "      <th>0</th>\n",
       "      <td>vrl</td>\n",
       "      <td>0</td>\n",
       "      <td>100217</td>\n",
       "      <td>1995</td>\n",
       "      <td>Epizootic haematopoietic necrosis virus</td>\n",
       "      <td>0.01654</td>\n",
       "      <td>0.01203</td>\n",
       "      <td>0.00050</td>\n",
       "      <td>0.00351</td>\n",
       "      <td>0.01203</td>\n",
       "      <td>...</td>\n",
       "      <td>0.01303</td>\n",
       "      <td>0.03559</td>\n",
       "      <td>0.01003</td>\n",
       "      <td>0.04612</td>\n",
       "      <td>0.01203</td>\n",
       "      <td>0.04361</td>\n",
       "      <td>0.00251</td>\n",
       "      <td>0.00050</td>\n",
       "      <td>0.00000</td>\n",
       "      <td>vrl</td>\n",
       "    </tr>\n",
       "    <tr>\n",
       "      <th>1</th>\n",
       "      <td>vrl</td>\n",
       "      <td>0</td>\n",
       "      <td>100220</td>\n",
       "      <td>1474</td>\n",
       "      <td>Bohle iridovirus</td>\n",
       "      <td>0.02714</td>\n",
       "      <td>0.01357</td>\n",
       "      <td>0.00068</td>\n",
       "      <td>0.00678</td>\n",
       "      <td>0.00407</td>\n",
       "      <td>...</td>\n",
       "      <td>0.01696</td>\n",
       "      <td>0.03596</td>\n",
       "      <td>0.01221</td>\n",
       "      <td>0.04545</td>\n",
       "      <td>0.01560</td>\n",
       "      <td>0.04410</td>\n",
       "      <td>0.00271</td>\n",
       "      <td>0.00068</td>\n",
       "      <td>0.00000</td>\n",
       "      <td>vrl</td>\n",
       "    </tr>\n",
       "    <tr>\n",
       "      <th>2</th>\n",
       "      <td>vrl</td>\n",
       "      <td>0</td>\n",
       "      <td>100755</td>\n",
       "      <td>4862</td>\n",
       "      <td>Sweet potato leaf curl virus</td>\n",
       "      <td>0.01974</td>\n",
       "      <td>0.0218</td>\n",
       "      <td>0.01357</td>\n",
       "      <td>0.01543</td>\n",
       "      <td>0.00782</td>\n",
       "      <td>...</td>\n",
       "      <td>0.01974</td>\n",
       "      <td>0.02489</td>\n",
       "      <td>0.03126</td>\n",
       "      <td>0.02036</td>\n",
       "      <td>0.02242</td>\n",
       "      <td>0.02468</td>\n",
       "      <td>0.00391</td>\n",
       "      <td>0.00000</td>\n",
       "      <td>0.00144</td>\n",
       "      <td>vrl</td>\n",
       "    </tr>\n",
       "    <tr>\n",
       "      <th>3</th>\n",
       "      <td>vrl</td>\n",
       "      <td>0</td>\n",
       "      <td>100880</td>\n",
       "      <td>1915</td>\n",
       "      <td>Northern cereal mosaic virus</td>\n",
       "      <td>0.01775</td>\n",
       "      <td>0.02245</td>\n",
       "      <td>0.01619</td>\n",
       "      <td>0.00992</td>\n",
       "      <td>0.01567</td>\n",
       "      <td>...</td>\n",
       "      <td>0.01410</td>\n",
       "      <td>0.01671</td>\n",
       "      <td>0.03760</td>\n",
       "      <td>0.01932</td>\n",
       "      <td>0.03029</td>\n",
       "      <td>0.03446</td>\n",
       "      <td>0.00261</td>\n",
       "      <td>0.00157</td>\n",
       "      <td>0.00000</td>\n",
       "      <td>vrl</td>\n",
       "    </tr>\n",
       "    <tr>\n",
       "      <th>4</th>\n",
       "      <td>vrl</td>\n",
       "      <td>0</td>\n",
       "      <td>100887</td>\n",
       "      <td>22831</td>\n",
       "      <td>Soil-borne cereal mosaic virus</td>\n",
       "      <td>0.02816</td>\n",
       "      <td>0.01371</td>\n",
       "      <td>0.00767</td>\n",
       "      <td>0.03679</td>\n",
       "      <td>0.01380</td>\n",
       "      <td>...</td>\n",
       "      <td>0.01494</td>\n",
       "      <td>0.01734</td>\n",
       "      <td>0.04148</td>\n",
       "      <td>0.02483</td>\n",
       "      <td>0.03359</td>\n",
       "      <td>0.03679</td>\n",
       "      <td>0.00000</td>\n",
       "      <td>0.00044</td>\n",
       "      <td>0.00131</td>\n",
       "      <td>vrl</td>\n",
       "    </tr>\n",
       "  </tbody>\n",
       "</table>\n",
       "<p>5 rows × 70 columns</p>\n",
       "</div>"
      ],
      "text/plain": [
       "  Kingdom  DNAtype  SpeciesID  Ncodons  \\\n",
       "0     vrl        0     100217     1995   \n",
       "1     vrl        0     100220     1474   \n",
       "2     vrl        0     100755     4862   \n",
       "3     vrl        0     100880     1915   \n",
       "4     vrl        0     100887    22831   \n",
       "\n",
       "                               SpeciesName      UUU      UUC      UUA  \\\n",
       "0  Epizootic haematopoietic necrosis virus  0.01654  0.01203  0.00050   \n",
       "1                         Bohle iridovirus  0.02714  0.01357  0.00068   \n",
       "2             Sweet potato leaf curl virus  0.01974   0.0218  0.01357   \n",
       "3             Northern cereal mosaic virus  0.01775  0.02245  0.01619   \n",
       "4           Soil-borne cereal mosaic virus  0.02816  0.01371  0.00767   \n",
       "\n",
       "       UUG      CUU  ...      AGA      AGG      GAU      GAC      GAA  \\\n",
       "0  0.00351  0.01203  ...  0.01303  0.03559  0.01003  0.04612  0.01203   \n",
       "1  0.00678  0.00407  ...  0.01696  0.03596  0.01221  0.04545  0.01560   \n",
       "2  0.01543  0.00782  ...  0.01974  0.02489  0.03126  0.02036  0.02242   \n",
       "3  0.00992  0.01567  ...  0.01410  0.01671  0.03760  0.01932  0.03029   \n",
       "4  0.03679  0.01380  ...  0.01494  0.01734  0.04148  0.02483  0.03359   \n",
       "\n",
       "       GAG      UAA      UAG      UGA  Labels  \n",
       "0  0.04361  0.00251  0.00050  0.00000     vrl  \n",
       "1  0.04410  0.00271  0.00068  0.00000     vrl  \n",
       "2  0.02468  0.00391  0.00000  0.00144     vrl  \n",
       "3  0.03446  0.00261  0.00157  0.00000     vrl  \n",
       "4  0.03679  0.00000  0.00044  0.00131     vrl  \n",
       "\n",
       "[5 rows x 70 columns]"
      ]
     },
     "execution_count": 34,
     "metadata": {},
     "output_type": "execute_result"
    }
   ],
   "source": [
    "data_dir = '/Users/natha/Downloads/CS334/project/codon+usage/codon_usage_relabeled.csv'\n",
    "\n",
    "df = pd.read_csv(data_dir, low_memory=False)\n",
    "df.head()"
   ]
  },
  {
   "cell_type": "code",
   "execution_count": 35,
   "id": "8c6ca7ff",
   "metadata": {},
   "outputs": [
    {
     "data": {
      "text/plain": [
       "Index(['Kingdom', 'SpeciesName', 'UUU', 'UUC', 'Labels'], dtype='object')"
      ]
     },
     "execution_count": 35,
     "metadata": {},
     "output_type": "execute_result"
    }
   ],
   "source": [
    "df.select_dtypes(include=['object']).columns"
   ]
  },
  {
   "cell_type": "code",
   "execution_count": 36,
   "id": "b990504f",
   "metadata": {
    "scrolled": true
   },
   "outputs": [],
   "source": [
    "### Clean df\n",
    "df[\"UUU\"] = pd.to_numeric(df[\"UUU\"], errors='coerce').dropna()\n",
    "df[\"UUC\"] = pd.to_numeric(df[\"UUC\"], errors='coerce').dropna()\n",
    "\n",
    "bad_cols = ['SpeciesID', 'SpeciesName', 'Kingdom']\n",
    "\n",
    "df = df.drop(bad_cols, axis = 1)\n",
    "df.dropna(inplace=True)"
   ]
  },
  {
   "cell_type": "code",
   "execution_count": 37,
   "id": "798e66e2",
   "metadata": {},
   "outputs": [
    {
     "name": "stdout",
     "output_type": "stream",
     "text": [
      "0\n",
      "Series([], dtype: int64)\n",
      "\n",
      " --- COLS --- \n",
      "Index(['DNAtype', 'Ncodons', 'UUU', 'UUC', 'UUA', 'UUG', 'CUU', 'CUC', 'CUA',\n",
      "       'CUG', 'AUU', 'AUC', 'AUA', 'AUG', 'GUU', 'GUC', 'GUA', 'GUG', 'GCU',\n",
      "       'GCC', 'GCA', 'GCG', 'CCU', 'CCC', 'CCA', 'CCG', 'UGG', 'GGU', 'GGC',\n",
      "       'GGA', 'GGG', 'UCU', 'UCC', 'UCA', 'UCG', 'AGU', 'AGC', 'ACU', 'ACC',\n",
      "       'ACA', 'ACG', 'UAU', 'UAC', 'CAA', 'CAG', 'AAU', 'AAC', 'UGU', 'UGC',\n",
      "       'CAU', 'CAC', 'AAA', 'AAG', 'CGU', 'CGC', 'CGA', 'CGG', 'AGA', 'AGG',\n",
      "       'GAU', 'GAC', 'GAA', 'GAG', 'UAA', 'UAG', 'UGA', 'Labels'],\n",
      "      dtype='object')\n"
     ]
    }
   ],
   "source": [
    "### Checking for Missing Values \n",
    "na_sum = df.isna().sum()\n",
    "na_cols = na_sum[na_sum > 0]\n",
    "\n",
    "print(na_sum.sum())\n",
    "print(na_cols)\n",
    "print('\\n --- COLS --- ')\n",
    "print(df.columns)"
   ]
  },
  {
   "cell_type": "code",
   "execution_count": 38,
   "id": "d6eba211",
   "metadata": {},
   "outputs": [
    {
     "data": {
      "text/plain": [
       "Index(['Labels'], dtype='object')"
      ]
     },
     "execution_count": 38,
     "metadata": {},
     "output_type": "execute_result"
    }
   ],
   "source": [
    "df.select_dtypes(include=['object']).columns"
   ]
  },
  {
   "cell_type": "code",
   "execution_count": 39,
   "id": "bcc38e0d",
   "metadata": {},
   "outputs": [],
   "source": [
    "# Get one hot encoding of columns 'DNAtype'\n",
    "one_hot = pd.get_dummies(df['DNAtype'])\n",
    "df = df.drop('DNAtype', axis=1)\n",
    "df = df.join(one_hot)\n",
    "\n",
    "# Initialize LabelEncoder\n",
    "label_encoder = LabelEncoder()\n",
    "\n",
    "# Fit and transform the 'Kingdom' column\n",
    "df['Label_Encoded'] = label_encoder.fit_transform(df['Labels'])"
   ]
  },
  {
   "cell_type": "code",
   "execution_count": 41,
   "id": "9f4ce0c4",
   "metadata": {},
   "outputs": [],
   "source": [
    "from sklearn.model_selection import train_test_split\n",
    "X_train, X_test, y_train, y_test = train_test_split(df.drop(['Labels', 'Label_Encoded'], axis=1), df['Label_Encoded'], test_size=0.20, random_state=101)"
   ]
  },
  {
   "cell_type": "code",
   "execution_count": 42,
   "id": "b37192b7",
   "metadata": {},
   "outputs": [],
   "source": [
    "# standardize 'Ncodons'\n",
    "from sklearn.preprocessing import RobustScaler\n",
    "scaler = RobustScaler()\n",
    "scaler.fit(X_train['Ncodons'].values.reshape(-1,1))\n",
    "X_train['Ncodons_Norm'] = scaler.transform(X_train['Ncodons'].values.reshape(-1,1))\n",
    "X_test['Ncodons_Norm'] = scaler.transform(X_test['Ncodons'].values.reshape(-1,1))"
   ]
  },
  {
   "cell_type": "code",
   "execution_count": 43,
   "id": "b7dba7d5",
   "metadata": {},
   "outputs": [],
   "source": [
    "outdir = '/Users/natha/Downloads/CS334/project/data'\n",
    "X_train.to_csv(f'{outdir}X_train.csv', index=False)\n",
    "X_test.to_csv(f'{outdir}X_test.csv', index=False)\n",
    "y_train.to_csv(f'{outdir}Y_train.csv', index=False)\n",
    "y_test.to_csv(f'{outdir}Y_test.csv', index=False)"
   ]
  },
  {
   "cell_type": "markdown",
   "id": "ec5e33b8",
   "metadata": {},
   "source": [
    "# Trying Different Classifiers"
   ]
  },
  {
   "cell_type": "code",
   "execution_count": 4,
   "id": "f61ebffe",
   "metadata": {},
   "outputs": [],
   "source": [
    "import pandas as pd\n",
    "from sklearn.metrics import accuracy_score, classification_report\n",
    "datadir = '/Users/natha/Downloads/CS334/project/data'\n",
    "\n",
    "X_train = pd.read_csv(f'{datadir}X_train.csv')\n",
    "y_train = pd.read_csv(f'{datadir}y_train.csv')\n",
    "X_test = pd.read_csv(f'{datadir}X_test.csv')\n",
    "y_test = pd.read_csv(f'{datadir}y_test.csv')\n",
    "\n",
    "\n",
    "X_train_norm = X_train.drop(['Ncodons'], axis = 1)\n",
    "X_test_norm = X_test.drop(['Ncodons'], axis = 1)\n",
    "\n",
    "X_train = X_train.drop(['Ncodons_Norm'], axis = 1)\n",
    "X_test = X_test.drop(['Ncodons_Norm'], axis = 1)"
   ]
  },
  {
   "cell_type": "code",
   "execution_count": 45,
   "id": "6af176b0",
   "metadata": {},
   "outputs": [
    {
     "data": {
      "text/plain": [
       "Index(['Ncodons', 'UUU', 'UUC', 'UUA', 'UUG', 'CUU', 'CUC', 'CUA', 'CUG',\n",
       "       'AUU', 'AUC', 'AUA', 'AUG', 'GUU', 'GUC', 'GUA', 'GUG', 'GCU', 'GCC',\n",
       "       'GCA', 'GCG', 'CCU', 'CCC', 'CCA', 'CCG', 'UGG', 'GGU', 'GGC', 'GGA',\n",
       "       'GGG', 'UCU', 'UCC', 'UCA', 'UCG', 'AGU', 'AGC', 'ACU', 'ACC', 'ACA',\n",
       "       'ACG', 'UAU', 'UAC', 'CAA', 'CAG', 'AAU', 'AAC', 'UGU', 'UGC', 'CAU',\n",
       "       'CAC', 'AAA', 'AAG', 'CGU', 'CGC', 'CGA', 'CGG', 'AGA', 'AGG', 'GAU',\n",
       "       'GAC', 'GAA', 'GAG', 'UAA', 'UAG', 'UGA', '0', '1', '2', '3', '4', '5',\n",
       "       '6', '7', '9', '11', '12'],\n",
       "      dtype='object')"
      ]
     },
     "execution_count": 45,
     "metadata": {},
     "output_type": "execute_result"
    }
   ],
   "source": [
    "X_train.columns"
   ]
  },
  {
   "cell_type": "code",
   "execution_count": 46,
   "id": "e1b71796",
   "metadata": {},
   "outputs": [
    {
     "data": {
      "text/html": [
       "<div>\n",
       "<style scoped>\n",
       "    .dataframe tbody tr th:only-of-type {\n",
       "        vertical-align: middle;\n",
       "    }\n",
       "\n",
       "    .dataframe tbody tr th {\n",
       "        vertical-align: top;\n",
       "    }\n",
       "\n",
       "    .dataframe thead th {\n",
       "        text-align: right;\n",
       "    }\n",
       "</style>\n",
       "<table border=\"1\" class=\"dataframe\">\n",
       "  <thead>\n",
       "    <tr style=\"text-align: right;\">\n",
       "      <th></th>\n",
       "      <th>Label_Encoded</th>\n",
       "    </tr>\n",
       "  </thead>\n",
       "  <tbody>\n",
       "    <tr>\n",
       "      <th>0</th>\n",
       "      <td>2</td>\n",
       "    </tr>\n",
       "    <tr>\n",
       "      <th>1</th>\n",
       "      <td>2</td>\n",
       "    </tr>\n",
       "    <tr>\n",
       "      <th>2</th>\n",
       "      <td>1</td>\n",
       "    </tr>\n",
       "    <tr>\n",
       "      <th>3</th>\n",
       "      <td>1</td>\n",
       "    </tr>\n",
       "    <tr>\n",
       "      <th>4</th>\n",
       "      <td>1</td>\n",
       "    </tr>\n",
       "    <tr>\n",
       "      <th>...</th>\n",
       "      <td>...</td>\n",
       "    </tr>\n",
       "    <tr>\n",
       "      <th>10124</th>\n",
       "      <td>2</td>\n",
       "    </tr>\n",
       "    <tr>\n",
       "      <th>10125</th>\n",
       "      <td>0</td>\n",
       "    </tr>\n",
       "    <tr>\n",
       "      <th>10126</th>\n",
       "      <td>1</td>\n",
       "    </tr>\n",
       "    <tr>\n",
       "      <th>10127</th>\n",
       "      <td>2</td>\n",
       "    </tr>\n",
       "    <tr>\n",
       "      <th>10128</th>\n",
       "      <td>2</td>\n",
       "    </tr>\n",
       "  </tbody>\n",
       "</table>\n",
       "<p>10129 rows × 1 columns</p>\n",
       "</div>"
      ],
      "text/plain": [
       "       Label_Encoded\n",
       "0                  2\n",
       "1                  2\n",
       "2                  1\n",
       "3                  1\n",
       "4                  1\n",
       "...              ...\n",
       "10124              2\n",
       "10125              0\n",
       "10126              1\n",
       "10127              2\n",
       "10128              2\n",
       "\n",
       "[10129 rows x 1 columns]"
      ]
     },
     "execution_count": 46,
     "metadata": {},
     "output_type": "execute_result"
    }
   ],
   "source": [
    "y_train"
   ]
  },
  {
   "cell_type": "code",
   "execution_count": 47,
   "id": "2d557979",
   "metadata": {},
   "outputs": [
    {
     "name": "stderr",
     "output_type": "stream",
     "text": [
      "C:\\Users\\natha\\anaconda3\\lib\\site-packages\\sklearn\\neighbors\\_classification.py:198: DataConversionWarning: A column-vector y was passed when a 1d array was expected. Please change the shape of y to (n_samples,), for example using ravel().\n",
      "  return self._fit(X, y)\n",
      "C:\\Users\\natha\\AppData\\Local\\Temp\\ipykernel_7628\\1429187760.py:13: DataConversionWarning: A column-vector y was passed when a 1d array was expected. Please change the shape of y to (n_samples,), for example using ravel().\n",
      "  rf_classifier.fit(X_train, y_train)\n"
     ]
    },
    {
     "name": "stdout",
     "output_type": "stream",
     "text": [
      "K-Nearest Neighbors (KNN) Classifier:\n",
      "Accuracy: 0.5740228977497039\n",
      "Classification Report:\n",
      "               precision    recall  f1-score   support\n",
      "\n",
      "           0       0.45      0.44      0.44       583\n",
      "           1       0.71      0.67      0.69      1385\n",
      "           2       0.41      0.47      0.44       565\n",
      "\n",
      "    accuracy                           0.57      2533\n",
      "   macro avg       0.52      0.53      0.52      2533\n",
      "weighted avg       0.58      0.57      0.58      2533\n",
      "\n",
      "\n",
      "Random Forest Classifier:\n",
      "Accuracy: 0.9636794315041453\n",
      "Classification Report:\n",
      "               precision    recall  f1-score   support\n",
      "\n",
      "           0       0.97      0.96      0.97       583\n",
      "           1       0.96      0.98      0.97      1385\n",
      "           2       0.95      0.92      0.94       565\n",
      "\n",
      "    accuracy                           0.96      2533\n",
      "   macro avg       0.96      0.96      0.96      2533\n",
      "weighted avg       0.96      0.96      0.96      2533\n",
      "\n"
     ]
    }
   ],
   "source": [
    "from sklearn.neighbors import KNeighborsClassifier\n",
    "from sklearn.ensemble import RandomForestClassifier\n",
    "from sklearn.svm import SVC\n",
    "\n",
    "# K-Nearest Neighbors (KNN) Classifier 'n_neighbors': 1, 'p': 1, 'weights': 'distance'\n",
    "knn_classifier = KNeighborsClassifier(n_neighbors=1, p=1, weights = 'distance')\n",
    "knn_classifier.fit(X_train, y_train)\n",
    "knn_predictions = knn_classifier.predict(X_test)\n",
    "\n",
    "# Random Forest Classifier\n",
    "rf_classifier = RandomForestClassifier(n_estimators=100, random_state=42)\n",
    "rf_classifier.fit(X_train, y_train)\n",
    "rf_predictions = rf_classifier.predict(X_test)\n",
    "\n",
    "# Support Vector Machine (SVM) Classifier\n",
    "#svm_classifier = SVC(kernel='linear', C=1.0)\n",
    "#svm_classifier.fit(X_train, y_train)\n",
    "#svm_predictions = svm_classifier.predict(X_test)\n",
    "\n",
    "# Evaluate and print the results\n",
    "print(\"K-Nearest Neighbors (KNN) Classifier:\")\n",
    "print(\"Accuracy:\", accuracy_score(y_test, knn_predictions))\n",
    "print(\"Classification Report:\\n\", classification_report(y_test, knn_predictions))\n",
    "\n",
    "print(\"\\nRandom Forest Classifier:\")\n",
    "print(\"Accuracy:\", accuracy_score(y_test, rf_predictions))\n",
    "print(\"Classification Report:\\n\", classification_report(y_test, rf_predictions))\n",
    "\n",
    "#print(\"\\nSupport Vector Machine (SVM) Classifier:\")\n",
    "#print(\"Accuracy:\", accuracy_score(y_test, svm_predictions))\n",
    "#print(\"Classification Report:\\n\", classification_report(y_test, svm_predictions))"
   ]
  },
  {
   "cell_type": "code",
   "execution_count": 48,
   "id": "30394c22",
   "metadata": {},
   "outputs": [
    {
     "name": "stderr",
     "output_type": "stream",
     "text": [
      "C:\\Users\\natha\\anaconda3\\lib\\site-packages\\sklearn\\neighbors\\_classification.py:198: DataConversionWarning: A column-vector y was passed when a 1d array was expected. Please change the shape of y to (n_samples,), for example using ravel().\n",
      "  return self._fit(X, y)\n",
      "C:\\Users\\natha\\AppData\\Local\\Temp\\ipykernel_7628\\1409891929.py:8: DataConversionWarning: A column-vector y was passed when a 1d array was expected. Please change the shape of y to (n_samples,), for example using ravel().\n",
      "  rf_classifier.fit(X_train_norm, y_train)\n"
     ]
    },
    {
     "name": "stdout",
     "output_type": "stream",
     "text": [
      "K-Nearest Neighbors (KNN) Classifier:\n",
      "Accuracy: 0.8961705487564153\n",
      "Classification Report:\n",
      "               precision    recall  f1-score   support\n",
      "\n",
      "           0       0.89      0.91      0.90       583\n",
      "           1       0.92      0.92      0.92      1385\n",
      "           2       0.85      0.81      0.83       565\n",
      "\n",
      "    accuracy                           0.90      2533\n",
      "   macro avg       0.89      0.88      0.88      2533\n",
      "weighted avg       0.90      0.90      0.90      2533\n",
      "\n",
      "\n",
      "Random Forest Classifier:\n",
      "Accuracy: 0.9628898539281484\n",
      "Classification Report:\n",
      "               precision    recall  f1-score   support\n",
      "\n",
      "           0       0.98      0.97      0.97       583\n",
      "           1       0.96      0.98      0.97      1385\n",
      "           2       0.95      0.91      0.93       565\n",
      "\n",
      "    accuracy                           0.96      2533\n",
      "   macro avg       0.96      0.95      0.96      2533\n",
      "weighted avg       0.96      0.96      0.96      2533\n",
      "\n"
     ]
    }
   ],
   "source": [
    "### Normalized Train Test Values \n",
    "\n",
    "# K-Nearest Neighbors (KNN) Classifier 'n_neighbors': 1, 'p': 1, 'weights': 'distance'\n",
    "knn_classifier = KNeighborsClassifier(n_neighbors=1, p=1, weights = 'distance')\n",
    "knn_classifier.fit(X_train_norm, y_train)\n",
    "knn_predictions = knn_classifier.predict(X_test_norm)\n",
    "\n",
    "# Random Forest Classifier\n",
    "rf_classifier = RandomForestClassifier(n_estimators=100, random_state=42)\n",
    "rf_classifier.fit(X_train_norm, y_train)\n",
    "rf_predictions = rf_classifier.predict(X_test_norm)\n",
    "\n",
    "# Support Vector Machine (SVM) Classifier\n",
    "#svm_classifier = SVC(kernel='linear', C=1.0)\n",
    "#svm_classifier.fit(X_train, y_train)\n",
    "#svm_predictions = svm_classifier.predict(X_test)\n",
    "\n",
    "# Evaluate and print the results\n",
    "print(\"K-Nearest Neighbors (KNN) Classifier:\")\n",
    "print(\"Accuracy:\", accuracy_score(y_test, knn_predictions))\n",
    "print(\"Classification Report:\\n\", classification_report(y_test, knn_predictions))\n",
    "\n",
    "print(\"\\nRandom Forest Classifier:\")\n",
    "print(\"Accuracy:\", accuracy_score(y_test, rf_predictions))\n",
    "print(\"Classification Report:\\n\", classification_report(y_test, rf_predictions))\n",
    "\n",
    "#print(\"\\nSupport Vector Machine (SVM) Classifier:\")\n",
    "#print(\"Accuracy:\", accuracy_score(y_test, svm_predictions))\n",
    "#print(\"Classification Report:\\n\", classification_report(y_test, svm_predictions))"
   ]
  },
  {
   "cell_type": "code",
   "execution_count": 19,
   "id": "d56601fe",
   "metadata": {},
   "outputs": [
    {
     "name": "stderr",
     "output_type": "stream",
     "text": [
      "C:\\Users\\natha\\anaconda3\\lib\\site-packages\\sklearn\\utils\\validation.py:993: DataConversionWarning: A column-vector y was passed when a 1d array was expected. Please change the shape of y to (n_samples, ), for example using ravel().\n",
      "  y = column_or_1d(y, warn=True)\n"
     ]
    },
    {
     "name": "stdout",
     "output_type": "stream",
     "text": [
      "\n",
      "Support Vector Machine (SVM) Classifier:\n",
      "Accuracy: 0.5846821950256613\n",
      "Classification Report:\n",
      "               precision    recall  f1-score   support\n",
      "\n",
      "           0       0.87      0.18      0.30       583\n",
      "           1       0.57      0.99      0.72      1385\n",
      "           2       0.00      0.00      0.00       565\n",
      "\n",
      "    accuracy                           0.58      2533\n",
      "   macro avg       0.48      0.39      0.34      2533\n",
      "weighted avg       0.51      0.58      0.47      2533\n",
      "\n"
     ]
    },
    {
     "name": "stderr",
     "output_type": "stream",
     "text": [
      "C:\\Users\\natha\\anaconda3\\lib\\site-packages\\sklearn\\metrics\\_classification.py:1318: UndefinedMetricWarning: Precision and F-score are ill-defined and being set to 0.0 in labels with no predicted samples. Use `zero_division` parameter to control this behavior.\n",
      "  _warn_prf(average, modifier, msg_start, len(result))\n",
      "C:\\Users\\natha\\anaconda3\\lib\\site-packages\\sklearn\\metrics\\_classification.py:1318: UndefinedMetricWarning: Precision and F-score are ill-defined and being set to 0.0 in labels with no predicted samples. Use `zero_division` parameter to control this behavior.\n",
      "  _warn_prf(average, modifier, msg_start, len(result))\n",
      "C:\\Users\\natha\\anaconda3\\lib\\site-packages\\sklearn\\metrics\\_classification.py:1318: UndefinedMetricWarning: Precision and F-score are ill-defined and being set to 0.0 in labels with no predicted samples. Use `zero_division` parameter to control this behavior.\n",
      "  _warn_prf(average, modifier, msg_start, len(result))\n"
     ]
    }
   ],
   "source": [
    "from sklearn.svm import SVC\n",
    "# Support Vector Machine (SVM) Classifier\n",
    "svm_classifier = SVC()\n",
    "svm_classifier.fit(X_train, y_train)\n",
    "svm_predictions = svm_classifier.predict(X_test)\n",
    "\n",
    "print(\"\\nSupport Vector Machine (SVM) Classifier:\")\n",
    "print(\"Accuracy:\", accuracy_score(y_test, svm_predictions))\n",
    "print(\"Classification Report:\\n\", classification_report(y_test, svm_predictions))"
   ]
  },
  {
   "cell_type": "code",
   "execution_count": 8,
   "id": "9b5bc3f0",
   "metadata": {},
   "outputs": [
    {
     "name": "stdout",
     "output_type": "stream",
     "text": [
      "Accuracy (XGBoost): 0.975523095144098\n",
      "              precision    recall  f1-score   support\n",
      "\n",
      "           0       0.98      0.98      0.98       583\n",
      "           1       0.98      0.98      0.98      1385\n",
      "           2       0.95      0.96      0.96       565\n",
      "\n",
      "    accuracy                           0.98      2533\n",
      "   macro avg       0.97      0.97      0.97      2533\n",
      "weighted avg       0.98      0.98      0.98      2533\n",
      "\n",
      "Accuracy: 0.23016186340307934\n",
      "              precision    recall  f1-score   support\n",
      "\n",
      "           0       0.23      1.00      0.37       583\n",
      "           1       0.00      0.00      0.00      1385\n",
      "           2       0.00      0.00      0.00       565\n",
      "\n",
      "    accuracy                           0.23      2533\n",
      "   macro avg       0.08      0.33      0.12      2533\n",
      "weighted avg       0.05      0.23      0.09      2533\n",
      "\n"
     ]
    },
    {
     "name": "stderr",
     "output_type": "stream",
     "text": [
      "C:\\Users\\natha\\anaconda3\\lib\\site-packages\\sklearn\\utils\\validation.py:993: DataConversionWarning: A column-vector y was passed when a 1d array was expected. Please change the shape of y to (n_samples, ), for example using ravel().\n",
      "  y = column_or_1d(y, warn=True)\n",
      "C:\\Users\\natha\\anaconda3\\lib\\site-packages\\sklearn\\metrics\\_classification.py:1318: UndefinedMetricWarning: Precision and F-score are ill-defined and being set to 0.0 in labels with no predicted samples. Use `zero_division` parameter to control this behavior.\n",
      "  _warn_prf(average, modifier, msg_start, len(result))\n",
      "C:\\Users\\natha\\anaconda3\\lib\\site-packages\\sklearn\\metrics\\_classification.py:1318: UndefinedMetricWarning: Precision and F-score are ill-defined and being set to 0.0 in labels with no predicted samples. Use `zero_division` parameter to control this behavior.\n",
      "  _warn_prf(average, modifier, msg_start, len(result))\n",
      "C:\\Users\\natha\\anaconda3\\lib\\site-packages\\sklearn\\metrics\\_classification.py:1318: UndefinedMetricWarning: Precision and F-score are ill-defined and being set to 0.0 in labels with no predicted samples. Use `zero_division` parameter to control this behavior.\n",
      "  _warn_prf(average, modifier, msg_start, len(result))\n"
     ]
    }
   ],
   "source": [
    "from xgboost import XGBClassifier\n",
    "from sklearn.linear_model import LogisticRegression\n",
    "\n",
    "# Create an XGBoost model\n",
    "xgb_model = XGBClassifier()\n",
    "\n",
    "# Fit the model on the training data\n",
    "xgb_model.fit(X_train_norm, y_train)\n",
    "\n",
    "# Make predictions on the test set\n",
    "y_pred_xgb = xgb_model.predict(X_test_norm)\n",
    "\n",
    "# Evaluate the model\n",
    "accuracy_xgb = accuracy_score(y_test, y_pred_xgb)\n",
    "print(f'Accuracy (XGBoost): {accuracy_xgb}')\n",
    "\n",
    "# Additional metrics\n",
    "print(classification_report(y_test, y_pred_xgb))\n",
    "\n",
    "\n",
    "logreg_model = LogisticRegression()\n",
    "\n",
    "# Fit the model on the training data\n",
    "logreg_model.fit(X_train, y_train)\n",
    "\n",
    "# Make predictions on the test set\n",
    "y_pred = logreg_model.predict(X_test)\n",
    "\n",
    "# Evaluate the model\n",
    "accuracy = accuracy_score(y_test, y_pred)\n",
    "print(f'Accuracy: {accuracy}')\n",
    "\n",
    "# Additional metrics\n",
    "print(classification_report(y_test, y_pred))"
   ]
  },
  {
   "cell_type": "code",
   "execution_count": 17,
   "id": "dfc313c8",
   "metadata": {},
   "outputs": [
    {
     "name": "stderr",
     "output_type": "stream",
     "text": [
      "C:\\Users\\natha\\anaconda3\\lib\\site-packages\\sklearn\\neural_network\\_multilayer_perceptron.py:1109: DataConversionWarning: A column-vector y was passed when a 1d array was expected. Please change the shape of y to (n_samples, ), for example using ravel().\n",
      "  y = column_or_1d(y, warn=True)\n"
     ]
    },
    {
     "name": "stdout",
     "output_type": "stream",
     "text": [
      "Accuracy: 0.9474930911962101\n",
      "              precision    recall  f1-score   support\n",
      "\n",
      "           0       0.95      0.97      0.96       583\n",
      "           1       0.96      0.96      0.96      1385\n",
      "           2       0.92      0.90      0.91       565\n",
      "\n",
      "    accuracy                           0.95      2533\n",
      "   macro avg       0.94      0.94      0.94      2533\n",
      "weighted avg       0.95      0.95      0.95      2533\n",
      "\n"
     ]
    }
   ],
   "source": [
    "from sklearn.neural_network import MLPClassifier\n",
    "\n",
    "# Create an MLP classifier\n",
    "mlp_classifier = MLPClassifier(hidden_layer_sizes=(100, 25), max_iter=500, random_state=42)\n",
    "\n",
    "# Train the model\n",
    "mlp_classifier.fit(X_train_norm, y_train)\n",
    "\n",
    "# Make predictions on the test set\n",
    "y_pred = mlp_classifier.predict(X_test_norm)\n",
    "\n",
    "# Evaluate the accuracy of the model\n",
    "accuracy = accuracy_score(y_test, y_pred)\n",
    "print(f\"Accuracy: {accuracy}\")\n",
    "\n",
    "# Additional metrics\n",
    "print(classification_report(y_test, y_pred))"
   ]
  }
 ],
 "metadata": {
  "kernelspec": {
   "display_name": "Python 3 (ipykernel)",
   "language": "python",
   "name": "python3"
  },
  "language_info": {
   "codemirror_mode": {
    "name": "ipython",
    "version": 3
   },
   "file_extension": ".py",
   "mimetype": "text/x-python",
   "name": "python",
   "nbconvert_exporter": "python",
   "pygments_lexer": "ipython3",
   "version": "3.9.12"
  }
 },
 "nbformat": 4,
 "nbformat_minor": 5
}
