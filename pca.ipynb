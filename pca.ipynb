{
 "cells": [
  {
   "cell_type": "code",
   "execution_count": 23,
   "metadata": {},
   "outputs": [
    {
     "name": "stdout",
     "output_type": "stream",
     "text": [
      "[9.99961409e-01 3.02153054e-05]\n",
      "(10129, 4)\n",
      "(10129, 1)\n"
     ]
    },
    {
     "data": {
      "text/plain": [
       "Text(0.5, 1.0, 'PCA')"
      ]
     },
     "execution_count": 23,
     "metadata": {},
     "output_type": "execute_result"
    },
    {
     "data": {
      "image/png": "[encoded data removed]",
      "text/plain": [
       "<Figure size 640x480 with 1 Axes>"
      ]
     },
     "metadata": {},
     "output_type": "display_data"
    }
   ],
   "source": [
    "import pandas as pd\n",
    "from sklearn.decomposition import PCA\n",
    "import matplotlib.pyplot as plt\n",
    "datadir = './relabeled_data/data'\n",
    "\n",
    "X_train = pd.read_csv(f'{datadir}X_train.csv')\n",
    "Y_train = pd.read_csv(f'{datadir}Y_train.csv')\n",
    "X_train_norm = X_train.drop(['Ncodons'], axis = 1)\n",
    "pca = PCA()\n",
    "X_train_PCA = pca.fit_transform(X_train_norm)\n",
    "print(pca.explained_variance_ratio_[:2])\n",
    "# print(pca.singular_values_)\n",
    "m = X_train_norm.shape[1]\n",
    "K = 4\n",
    "X_train_PCA = pd.DataFrame(X_train_PCA, \n",
    "                      columns=[\"PC%d\" % k for k in range(1,m + 1)]).iloc[:,:K]\n",
    "# Color classes\n",
    "print(X_train_PCA.shape)\n",
    "print(Y_train.shape)\n",
    "X_train_PCA[\"class\"] = Y_train\n",
    "groups = X_train_PCA.groupby('class')\n",
    "fig, ax = plt.subplots()\n",
    "for name, group in groups:\n",
    "    ax.plot(group[\"PC1\"], group[\"PC2\"], marker='o', linestyle='', label=name)\n",
    "    # ax[1].plot(group[\"PC3\"], group[\"PC4\"], marker='o', linestyle='', label=name)\n",
    "plt.legend()\n",
    "plt.xlabel(\"PC1\")\n",
    "plt.ylabel(\"PC2\")\n",
    "plt.title(\"PCA\")\n"
   ]
  },
  {
   "cell_type": "code",
   "execution_count": 35,
   "metadata": {},
   "outputs": [
    {
     "name": "stdout",
     "output_type": "stream",
     "text": [
      "Index(['UUU', 'UUC', 'UUA', 'UUG', 'CUU', 'CUC', 'CUA', 'CUG', 'AUU', 'AUC',\n",
      "       'AUA', 'AUG', 'GUU', 'GUC', 'GUA', 'GUG', 'GCU', 'GCC', 'GCA', 'GCG',\n",
      "       'CCU', 'CCC', 'CCA', 'CCG', 'UGG', 'GGU', 'GGC', 'GGA', 'GGG', 'UCU',\n",
      "       'UCC', 'UCA', 'UCG', 'AGU', 'AGC', 'ACU', 'ACC', 'ACA', 'ACG', 'UAU',\n",
      "       'UAC', 'CAA', 'CAG', 'AAU', 'AAC', 'UGU', 'UGC', 'CAU', 'CAC', 'AAA',\n",
      "       'AAG', 'CGU', 'CGC', 'CGA', 'CGG', 'AGA', 'AGG', 'GAU', 'GAC', 'GAA',\n",
      "       'GAG', 'UAA', 'UAG', 'UGA', '0', '1', '2', '3', '4', '5', '6', '7', '9',\n",
      "       '11', '12', 'Ncodons_Norm'],\n",
      "      dtype='object')\n"
     ]
    },
    {
     "data": {
      "text/html": [
       "<div>\n",
       "<style scoped>\n",
       "    .dataframe tbody tr th:only-of-type {\n",
       "        vertical-align: middle;\n",
       "    }\n",
       "\n",
       "    .dataframe tbody tr th {\n",
       "        vertical-align: top;\n",
       "    }\n",
       "\n",
       "    .dataframe thead th {\n",
       "        text-align: right;\n",
       "    }\n",
       "</style>\n",
       "<table border=\"1\" class=\"dataframe\">\n",
       "  <thead>\n",
       "    <tr style=\"text-align: right;\">\n",
       "      <th></th>\n",
       "      <th>0</th>\n",
       "      <th>features</th>\n",
       "    </tr>\n",
       "  </thead>\n",
       "  <tbody>\n",
       "    <tr>\n",
       "      <th>75</th>\n",
       "      <td>1.000000</td>\n",
       "      <td>Ncodons_Norm</td>\n",
       "    </tr>\n",
       "    <tr>\n",
       "      <th>64</th>\n",
       "      <td>0.000251</td>\n",
       "      <td>0</td>\n",
       "    </tr>\n",
       "    <tr>\n",
       "      <th>7</th>\n",
       "      <td>0.000012</td>\n",
       "      <td>CUG</td>\n",
       "    </tr>\n",
       "    <tr>\n",
       "      <th>19</th>\n",
       "      <td>0.000011</td>\n",
       "      <td>GCG</td>\n",
       "    </tr>\n",
       "    <tr>\n",
       "      <th>26</th>\n",
       "      <td>0.000008</td>\n",
       "      <td>GGC</td>\n",
       "    </tr>\n",
       "    <tr>\n",
       "      <th>52</th>\n",
       "      <td>0.000008</td>\n",
       "      <td>CGC</td>\n",
       "    </tr>\n",
       "    <tr>\n",
       "      <th>60</th>\n",
       "      <td>0.000007</td>\n",
       "      <td>GAG</td>\n",
       "    </tr>\n",
       "    <tr>\n",
       "      <th>15</th>\n",
       "      <td>0.000007</td>\n",
       "      <td>GUG</td>\n",
       "    </tr>\n",
       "    <tr>\n",
       "      <th>42</th>\n",
       "      <td>0.000006</td>\n",
       "      <td>CAG</td>\n",
       "    </tr>\n",
       "    <tr>\n",
       "      <th>23</th>\n",
       "      <td>0.000006</td>\n",
       "      <td>CCG</td>\n",
       "    </tr>\n",
       "  </tbody>\n",
       "</table>\n",
       "</div>"
      ],
      "text/plain": [
       "           0      features\n",
       "75  1.000000  Ncodons_Norm\n",
       "64  0.000251             0\n",
       "7   0.000012           CUG\n",
       "19  0.000011           GCG\n",
       "26  0.000008           GGC\n",
       "52  0.000008           CGC\n",
       "60  0.000007           GAG\n",
       "15  0.000007           GUG\n",
       "42  0.000006           CAG\n",
       "23  0.000006           CCG"
      ]
     },
     "execution_count": 35,
     "metadata": {},
     "output_type": "execute_result"
    }
   ],
   "source": [
    "features = X_train_norm.columns\n",
    "print(features)\n",
    "pc = pd.DataFrame(pca.components_[:1]).T\n",
    "pc[\"features\"] = features\n",
    "pc.sort_values(by=0, ascending=False, inplace=True)\n",
    "pc.head(10)"
   ]
  }
 ],
 "metadata": {
  "kernelspec": {
   "display_name": "general",
   "language": "python",
   "name": "python3"
  },
  "language_info": {
   "codemirror_mode": {
    "name": "ipython",
    "version": 3
   },
   "file_extension": ".py",
   "mimetype": "text/x-python",
   "name": "python",
   "nbconvert_exporter": "python",
   "pygments_lexer": "ipython3",
   "version": "3.10.12"
  }
 },
 "nbformat": 4,
 "nbformat_minor": 2
}
